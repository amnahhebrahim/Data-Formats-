{
  "nbformat": 4,
  "nbformat_minor": 0,
  "metadata": {
    "colab": {
      "provenance": [],
      "authorship_tag": "ABX9TyNduuQ85UWrfP22hOMe6ZBs",
      "include_colab_link": true
    },
    "kernelspec": {
      "name": "python3",
      "display_name": "Python 3"
    },
    "language_info": {
      "name": "python"
    }
  },
  "cells": [
    {
      "cell_type": "markdown",
      "metadata": {
        "id": "view-in-github",
        "colab_type": "text"
      },
      "source": [
        "<a href=\"https://colab.research.google.com/github/amnahhebrahim/Data-Formats-/blob/main/Data_formats_and_Libraries_YAML.ipynb\" target=\"_parent\"><img src=\"https://colab.research.google.com/assets/colab-badge.svg\" alt=\"Open In Colab\"/></a>"
      ]
    },
    {
      "cell_type": "markdown",
      "source": [
        "# Popular Data Formats and How to Process Them!- PT.2\n",
        "\n",
        "This tutorial is part of a mini-video series that aims to explore the various data formats available and provide a brief overview of what python libraries can be used to process and handle them. This tutorial aims to look at structured data formats as enumerated below:\n",
        "\n",
        "### ✅ YAML\n",
        "YAML is a human-readable data serialization language. It is usually utilized to store data in configuration files and in applications where data is being stored or transmitted.\n",
        "\n",
        "It comes in a \".yml\" and \".yaml\" data extension.YAML is a superset of JSON, so JSON files are valid in YAML.\n"
      ],
      "metadata": {
        "id": "mW0lSHoB0BQB"
      }
    },
    {
      "cell_type": "markdown",
      "source": [
        "#### Application\n",
        "\n",
        "\n",
        "A good application for using YAML files would be to create a description file for your data that includes the metadata of your data such as date of collection, author, source, and features.\n"
      ],
      "metadata": {
        "id": "fdziUexnBFT2"
      }
    },
    {
      "cell_type": "code",
      "source": [
        "!pip install pyYAML"
      ],
      "metadata": {
        "colab": {
          "base_uri": "https://localhost:8080/"
        },
        "id": "L2Tyb1kihtgo",
        "outputId": "0a728e2d-c88f-4d93-eac3-198a1c38df04"
      },
      "execution_count": 1,
      "outputs": [
        {
          "output_type": "stream",
          "name": "stdout",
          "text": [
            "Requirement already satisfied: pyYAML in /usr/local/lib/python3.12/dist-packages (6.0.2)\n"
          ]
        }
      ]
    },
    {
      "cell_type": "code",
      "execution_count": 4,
      "metadata": {
        "id": "x8vF4e7fz2Kv"
      },
      "outputs": [],
      "source": [
        "from yaml import load, dump\n",
        "import yaml\n",
        "#python dictionary of the metadata of a hypothetical dataset:\n",
        "metadata={\"Datasheet\":{\"Name\":\"Student Grades\",\"Source\":\"X Database\", \"Author\": \"John Doe\", \"Features\":[\"Name\", \"Subject\",\"Grades\"]}}\n",
        "\n",
        "#default_flow_style is set to false to ensures that nested dictionaries\n",
        "#and lists are written in a block style for better readability, rather flow style.\n",
        "with open('metadata.yaml', 'w') as file:\n",
        "    yaml.dump(metadata, file, default_flow_style=False)\n",
        "\n",
        "\n"
      ]
    },
    {
      "cell_type": "code",
      "source": [
        "#To read YAML files you can do the following:\n",
        "with open(\"metadata.yaml\", \"r\") as file:\n",
        "  loaded_meta=yaml.safe_load(file)\n",
        "print(loaded_meta)"
      ],
      "metadata": {
        "colab": {
          "base_uri": "https://localhost:8080/"
        },
        "id": "rEs9xlYj3uYd",
        "outputId": "33185e97-bd49-4529-eb48-f034dd25abc9"
      },
      "execution_count": 5,
      "outputs": [
        {
          "output_type": "stream",
          "name": "stdout",
          "text": [
            "{'Datasheet': {'Author': 'John Doe', 'Features': ['Name', 'Subject', 'Grades'], 'Name': 'Student Grades', 'Source': 'X Database'}}\n"
          ]
        }
      ]
    },
    {
      "cell_type": "code",
      "source": [
        "loaded_meta[\"Datasheet\"][\"Author\"]=\"Smith John\""
      ],
      "metadata": {
        "id": "uKLT2x39x7wR"
      },
      "execution_count": 7,
      "outputs": []
    },
    {
      "cell_type": "code",
      "source": [
        "loaded_meta[\"Datasheet\"][\"Features\"].append(\"semester\")"
      ],
      "metadata": {
        "id": "fR_yW9MyyRnA"
      },
      "execution_count": 10,
      "outputs": []
    },
    {
      "cell_type": "code",
      "source": [
        "loaded_meta"
      ],
      "metadata": {
        "colab": {
          "base_uri": "https://localhost:8080/"
        },
        "id": "fiVY2bYmyTzr",
        "outputId": "ca05db11-02dc-4ec5-8975-a3c3da488537"
      },
      "execution_count": 11,
      "outputs": [
        {
          "output_type": "execute_result",
          "data": {
            "text/plain": [
              "{'Datasheet': {'Author': 'Smith John',\n",
              "  'Features': ['Name', 'Subject', 'Grades', 'semester'],\n",
              "  'Name': 'Student Grades',\n",
              "  'Source': 'X Database'}}"
            ]
          },
          "metadata": {},
          "execution_count": 11
        }
      ]
    },
    {
      "cell_type": "code",
      "source": [
        "with open(\"updated_metadata.yaml\", \"w\") as file:\n",
        "  yaml.dump(loaded_meta, file, default_flow_style=False)"
      ],
      "metadata": {
        "id": "YfCV-4EDyqvf"
      },
      "execution_count": 12,
      "outputs": []
    },
    {
      "cell_type": "markdown",
      "source": [
        "\n",
        "\n",
        "## ✅ Hierarchical Data Format (HDF) 5\n",
        "The Hierarchical Data Format HDF version 5 was designed to to store and organize large amounts of data. It is a great mechanism for storing large numerical arrays of homogenous type, for data models that can be organized hierarchically and benefit from tagging of datasets with arbitrary metadata.It appears with numerous file extensions such as \".h5\", and \".hdf5\".\n",
        "\n",
        "\n"
      ],
      "metadata": {
        "id": "GEQe3xPY01Rb"
      }
    },
    {
      "cell_type": "markdown",
      "source": [
        "### Creating a HDF5 dataset:"
      ],
      "metadata": {
        "id": "hiNIdgkmAmHG"
      }
    },
    {
      "cell_type": "code",
      "source": [
        "import h5py\n",
        "# create a file to store the data:\n",
        "f = h5py.File(\"dataset.hdf5\",\"w\")\n",
        "\n"
      ],
      "metadata": {
        "id": "b6zJ6GvW2Lkl"
      },
      "execution_count": 42,
      "outputs": []
    },
    {
      "cell_type": "markdown",
      "source": [
        "#### Different methods for file management in python:\n",
        "\n",
        " f = h5py.File(\"name.hdf5\", \"w\")   # New file overwriting any existing file\n",
        "\n",
        " f = h5py.File(\"name.hdf5\", \"r\")   # Open read-only (must exist)\n",
        "\n",
        " f = h5py.File(\"name.hdf5\", \"r+\")  # Open read-write (must exist)\n",
        "\n",
        " f = h5py.File(\"name.hdf5\", \"a\")   # Open read-write (create if doesn't exist)"
      ],
      "metadata": {
        "id": "4NDl4smP7umR"
      }
    },
    {
      "cell_type": "code",
      "source": [
        "# The File object we created is itself a group, in this case the root group, named /:\n",
        "f.name"
      ],
      "metadata": {
        "colab": {
          "base_uri": "https://localhost:8080/",
          "height": 36
        },
        "id": "Wj5jOXuH5RNE",
        "outputId": "349729b1-9c31-4723-86af-7328a0b696d3"
      },
      "execution_count": 43,
      "outputs": [
        {
          "output_type": "execute_result",
          "data": {
            "text/plain": [
              "'/'"
            ],
            "application/vnd.google.colaboratory.intrinsic+json": {
              "type": "string"
            }
          },
          "metadata": {},
          "execution_count": 43
        }
      ]
    },
    {
      "cell_type": "code",
      "source": [
        "#Create groups within the dataset:\n",
        "\n",
        "dataset=f.create_group(\"Dataset\")\n",
        "grp_st1 =dataset.create_group(\"Station1\")\n",
        "grp_st2 =dataset.create_group(\"Station2\")\n"
      ],
      "metadata": {
        "id": "Kdp-Qb0G5a8H"
      },
      "execution_count": 44,
      "outputs": []
    },
    {
      "cell_type": "code",
      "source": [
        "grp_st1.name"
      ],
      "metadata": {
        "colab": {
          "base_uri": "https://localhost:8080/",
          "height": 35
        },
        "id": "VCo2iIYD50V0",
        "outputId": "3102bc4f-f23b-49e5-a6b7-9286d875715a"
      },
      "execution_count": 46,
      "outputs": [
        {
          "output_type": "execute_result",
          "data": {
            "text/plain": [
              "'/Dataset/Station1'"
            ],
            "application/vnd.google.colaboratory.intrinsic+json": {
              "type": "string"
            }
          },
          "metadata": {},
          "execution_count": 46
        }
      ]
    },
    {
      "cell_type": "code",
      "source": [
        "dset1_st1=grp_st1.create_dataset(\"wind\", 10, dtype=int)\n",
        "dset2_st1=grp_st1.create_dataset(\"humidty\", 10, dtype=int)\n",
        "dset3_st1=grp_st1.create_dataset(\"temperature\", 10, dtype=int)\n"
      ],
      "metadata": {
        "id": "JUZpLvDT520b"
      },
      "execution_count": 47,
      "outputs": []
    },
    {
      "cell_type": "code",
      "source": [
        "dset1_st2=grp_st2.create_dataset(\"wind\", 10, dtype=int)\n",
        "dset2_st2=grp_st2.create_dataset(\"humidty\", 10, dtype=int)\n",
        "dset3_st2=grp_st2.create_dataset(\"temperature\", 10, dtype=int)"
      ],
      "metadata": {
        "id": "Qqw5c8NX3LQk"
      },
      "execution_count": 48,
      "outputs": []
    },
    {
      "cell_type": "code",
      "source": [
        "#print the path of the dset1 for station 1\n",
        "dset3_st1.name"
      ],
      "metadata": {
        "colab": {
          "base_uri": "https://localhost:8080/",
          "height": 35
        },
        "id": "nGJjErg559-3",
        "outputId": "9451f730-6da8-4aac-ce9b-6586cf76d334"
      },
      "execution_count": 50,
      "outputs": [
        {
          "output_type": "execute_result",
          "data": {
            "text/plain": [
              "'/Dataset/Station1/temperature'"
            ],
            "application/vnd.google.colaboratory.intrinsic+json": {
              "type": "string"
            }
          },
          "metadata": {},
          "execution_count": 50
        }
      ]
    },
    {
      "cell_type": "code",
      "source": [
        "## asign the attributes for each group:\n",
        "grp_st1.attrs['start_time'] = 80920251300\n",
        "grp_st1.attrs['interval_min'] = 30\n",
        "grp_st2.attrs['start_time'] = 80920251300\n",
        "grp_st2.attrs['interval_min'] = 30\n"
      ],
      "metadata": {
        "id": "bqkVlWqi6Mau"
      },
      "execution_count": 51,
      "outputs": []
    },
    {
      "cell_type": "code",
      "source": [
        "## asign the values for each array for station 1:\n",
        "import numpy as np\n",
        "dset1_st1=np.arange(2,12, 1)\n",
        "dset2_st1=np.arange(10)\n",
        "dset3_st1=np.arange(3,13, 1)\n",
        "## assign values for station 2:\n",
        "dset1_st2=np.arange(2,12, 1)\n",
        "dset2_st2=np.arange(10)\n",
        "dset3_st2=np.arange(3,13, 1)\n"
      ],
      "metadata": {
        "id": "hWjinEwu7GGq"
      },
      "execution_count": 56,
      "outputs": []
    },
    {
      "cell_type": "code",
      "source": [
        "dset1_st2"
      ],
      "metadata": {
        "colab": {
          "base_uri": "https://localhost:8080/"
        },
        "id": "1_UGCdM67RSv",
        "outputId": "24971504-79fc-42d9-8549-a0e2f9e60885"
      },
      "execution_count": 57,
      "outputs": [
        {
          "output_type": "execute_result",
          "data": {
            "text/plain": [
              "array([ 2,  3,  4,  5,  6,  7,  8,  9, 10, 11])"
            ]
          },
          "metadata": {},
          "execution_count": 57
        }
      ]
    },
    {
      "cell_type": "code",
      "source": [
        "# Let HDF5 flush its buffers and actually write to disk:\n",
        "f.flush()\n",
        "#close the file we just created and wrote to\n",
        "f.close()"
      ],
      "metadata": {
        "id": "j4JgZRJ87Ymi"
      },
      "execution_count": 58,
      "outputs": []
    },
    {
      "cell_type": "code",
      "source": [
        "!ls -lh"
      ],
      "metadata": {
        "colab": {
          "base_uri": "https://localhost:8080/"
        },
        "id": "rwAM9zDl8vYS",
        "outputId": "d4c0b95f-46d6-4eb8-91bd-40a85d116cb1"
      },
      "execution_count": 59,
      "outputs": [
        {
          "output_type": "stream",
          "name": "stdout",
          "text": [
            "total 12K\n",
            "-rw-r--r-- 1 root root 6.1K Sep 10 13:55 dataset.hdf5\n",
            "drwxr-xr-x 1 root root 4.0K Sep  8 13:41 sample_data\n"
          ]
        }
      ]
    },
    {
      "cell_type": "markdown",
      "source": [
        "### Reading a HDF5 dataset:\n",
        "\n",
        "Dataset:openPMD\n",
        "\n",
        "Description: This dataset contains information about different particles such as electronics, with their charge, position, momentum, etc...\n"
      ],
      "metadata": {
        "id": "-WRSWVLc92YH"
      }
    },
    {
      "cell_type": "code",
      "source": [
        "!git clone https://github.com/openPMD/openPMD-example-datasets.git\n"
      ],
      "metadata": {
        "colab": {
          "base_uri": "https://localhost:8080/"
        },
        "id": "dTC4jk458xdu",
        "outputId": "0ebacca4-b5d6-4f2e-ce2d-2a34fc9211eb"
      },
      "execution_count": 60,
      "outputs": [
        {
          "output_type": "stream",
          "name": "stdout",
          "text": [
            "Cloning into 'openPMD-example-datasets'...\n",
            "remote: Enumerating objects: 132, done.\u001b[K\n",
            "remote: Counting objects: 100% (24/24), done.\u001b[K\n",
            "remote: Compressing objects: 100% (18/18), done.\u001b[K\n",
            "remote: Total 132 (delta 14), reused 9 (delta 6), pack-reused 108 (from 1)\u001b[K\n",
            "Receiving objects: 100% (132/132), 323.61 MiB | 39.73 MiB/s, done.\n",
            "Resolving deltas: 100% (48/48), done.\n"
          ]
        }
      ]
    },
    {
      "cell_type": "code",
      "source": [
        "files = h5py.File(\"/content/openPMD-example-datasets/example-femm-3d.h5\", \"r\")"
      ],
      "metadata": {
        "id": "RVuawbG1-ku2"
      },
      "execution_count": 62,
      "outputs": []
    },
    {
      "cell_type": "code",
      "source": [
        "# print the hierarchy of the H5 dataset:\n",
        "files.visit(lambda x: print (x))\n"
      ],
      "metadata": {
        "colab": {
          "base_uri": "https://localhost:8080/"
        },
        "id": "pWjiMRlR_Ttu",
        "outputId": "7b506c2e-7f11-4145-d52d-5ba4dc17c602"
      },
      "execution_count": 63,
      "outputs": [
        {
          "output_type": "stream",
          "name": "stdout",
          "text": [
            "data\n",
            "data/1\n",
            "data/1/meshes\n",
            "data/1/meshes/B\n",
            "data/1/meshes/B/x\n",
            "data/1/meshes/B/y\n",
            "data/1/meshes/B/z\n",
            "data/1/meshes/E\n",
            "data/1/meshes/E/x\n",
            "data/1/meshes/E/y\n",
            "data/1/meshes/E/z\n"
          ]
        }
      ]
    },
    {
      "cell_type": "code",
      "source": [
        "dataset_1=files[\"data/1/meshes/B/x\"]\n",
        "dataset_1"
      ],
      "metadata": {
        "colab": {
          "base_uri": "https://localhost:8080/"
        },
        "id": "ouCgjesPAolw",
        "outputId": "f92fd95a-00b6-4663-e1ed-1eb9e5794d7d"
      },
      "execution_count": 64,
      "outputs": [
        {
          "output_type": "execute_result",
          "data": {
            "text/plain": [
              "<HDF5 dataset \"x\": shape (47, 47, 47), type \"<f8\">"
            ]
          },
          "metadata": {},
          "execution_count": 64
        }
      ]
    },
    {
      "cell_type": "code",
      "source": [
        "#obtain the data:\n",
        "x_array = dataset_1[:]\n",
        "print(x_array)"
      ],
      "metadata": {
        "id": "KR1E2R8PA1E1",
        "colab": {
          "base_uri": "https://localhost:8080/"
        },
        "outputId": "1d7bbd52-8fd4-4996-d6de-bb47f1b4bfcd"
      },
      "execution_count": 65,
      "outputs": [
        {
          "output_type": "stream",
          "name": "stdout",
          "text": [
            "[[[ 0.00173245  0.00214297  0.00278616 ... -0.00284619 -0.00213305\n",
            "   -0.00169444]\n",
            "  [ 0.0018205   0.0022785   0.00303151 ... -0.00306161 -0.00227971\n",
            "   -0.00179205]\n",
            "  [ 0.00190167  0.00240754  0.00326678 ... -0.00328131 -0.00239403\n",
            "   -0.00189035]\n",
            "  ...\n",
            "  [ 0.00190167  0.00240754  0.00326678 ... -0.00328131 -0.00239403\n",
            "   -0.00189035]\n",
            "  [ 0.0018205   0.0022785   0.00303151 ... -0.00306161 -0.00227971\n",
            "   -0.00179205]\n",
            "  [ 0.00173245  0.00214297  0.00278616 ... -0.00284619 -0.00213305\n",
            "   -0.00169444]]\n",
            "\n",
            " [[ 0.00174135  0.00217944  0.00289971 ... -0.0029285  -0.0021806\n",
            "   -0.00171413]\n",
            "  [ 0.00182272  0.00230881  0.00313563 ... -0.00314876 -0.0022952\n",
            "   -0.00181201]\n",
            "  [ 0.00190563  0.00242746  0.00330579 ... -0.00336784 -0.00241244\n",
            "   -0.00189772]\n",
            "  ...\n",
            "  [ 0.00190563  0.00242746  0.00330579 ... -0.00336784 -0.00241244\n",
            "   -0.00189772]\n",
            "  [ 0.00182272  0.00230881  0.00313563 ... -0.00314876 -0.0022952\n",
            "   -0.00181201]\n",
            "  [ 0.00174135  0.00217944  0.00289971 ... -0.0029285  -0.0021806\n",
            "   -0.00171413]]\n",
            "\n",
            " [[ 0.00173631  0.00219819  0.00298271 ... -0.00299598 -0.00218585\n",
            "   -0.00172597]\n",
            "  [ 0.00181901  0.00231712  0.00315552 ... -0.00321475 -0.00230278\n",
            "   -0.00181146]\n",
            "  [ 0.00190233  0.00241461  0.00329473 ... -0.00333711 -0.00242459\n",
            "   -0.00191184]\n",
            "  ...\n",
            "  [ 0.00190233  0.00241461  0.00329473 ... -0.00333711 -0.00242459\n",
            "   -0.00191184]\n",
            "  [ 0.00181901  0.00231712  0.00315552 ... -0.00321475 -0.00230278\n",
            "   -0.00181146]\n",
            "  [ 0.00173631  0.00219819  0.00298271 ... -0.00299598 -0.00218585\n",
            "   -0.00172597]]\n",
            "\n",
            " ...\n",
            "\n",
            " [[-0.00173631 -0.00219819 -0.00298271 ...  0.00299598  0.00218585\n",
            "    0.00172597]\n",
            "  [-0.00181901 -0.00231712 -0.00315552 ...  0.00321475  0.00230278\n",
            "    0.00181146]\n",
            "  [-0.00190233 -0.00241461 -0.00329473 ...  0.00333711  0.00242459\n",
            "    0.00191184]\n",
            "  ...\n",
            "  [-0.00190233 -0.00241461 -0.00329473 ...  0.00333711  0.00242459\n",
            "    0.00191184]\n",
            "  [-0.00181901 -0.00231712 -0.00315552 ...  0.00321475  0.00230278\n",
            "    0.00181146]\n",
            "  [-0.00173631 -0.00219819 -0.00298271 ...  0.00299598  0.00218585\n",
            "    0.00172597]]\n",
            "\n",
            " [[-0.00174135 -0.00217944 -0.00289971 ...  0.0029285   0.0021806\n",
            "    0.00171413]\n",
            "  [-0.00182272 -0.00230881 -0.00313563 ...  0.00314876  0.0022952\n",
            "    0.00181201]\n",
            "  [-0.00190563 -0.00242746 -0.00330579 ...  0.00336784  0.00241244\n",
            "    0.00189772]\n",
            "  ...\n",
            "  [-0.00190563 -0.00242746 -0.00330579 ...  0.00336784  0.00241244\n",
            "    0.00189772]\n",
            "  [-0.00182272 -0.00230881 -0.00313563 ...  0.00314876  0.0022952\n",
            "    0.00181201]\n",
            "  [-0.00174135 -0.00217944 -0.00289971 ...  0.0029285   0.0021806\n",
            "    0.00171413]]\n",
            "\n",
            " [[-0.00173245 -0.00214297 -0.00278616 ...  0.00284619  0.00213305\n",
            "    0.00169444]\n",
            "  [-0.0018205  -0.0022785  -0.00303151 ...  0.00306161  0.00227971\n",
            "    0.00179205]\n",
            "  [-0.00190167 -0.00240754 -0.00326678 ...  0.00328131  0.00239403\n",
            "    0.00189035]\n",
            "  ...\n",
            "  [-0.00190167 -0.00240754 -0.00326678 ...  0.00328131  0.00239403\n",
            "    0.00189035]\n",
            "  [-0.0018205  -0.0022785  -0.00303151 ...  0.00306161  0.00227971\n",
            "    0.00179205]\n",
            "  [-0.00173245 -0.00214297 -0.00278616 ...  0.00284619  0.00213305\n",
            "    0.00169444]]]\n"
          ]
        }
      ]
    },
    {
      "cell_type": "code",
      "source": [
        "#Obtain the attributes for one dataset:\n",
        "attributes_dset1 = dataset_1.attrs\n",
        "for keys, values in attributes_dset1.items():\n",
        "    print(keys, values)\n"
      ],
      "metadata": {
        "colab": {
          "base_uri": "https://localhost:8080/"
        },
        "id": "yyN0ySBCu_Rb",
        "outputId": "5c592afb-4b6b-4063-a7b3-3cef7a3564ec"
      },
      "execution_count": 66,
      "outputs": [
        {
          "output_type": "stream",
          "name": "stdout",
          "text": [
            "position [0. 0. 0.]\n",
            "unitSI 1.0\n"
          ]
        }
      ]
    },
    {
      "cell_type": "code",
      "source": [
        "B=files[\"data/1/meshes/B\"]\n",
        "b_attrs=B.attrs\n",
        "\n",
        "for keys, values in b_attrs.items():\n",
        "  print(keys, values)"
      ],
      "metadata": {
        "id": "v9cZ1t79uvxz",
        "colab": {
          "base_uri": "https://localhost:8080/"
        },
        "outputId": "f11e724d-e44f-4661-cba6-b7c8385778e6"
      },
      "execution_count": 68,
      "outputs": [
        {
          "output_type": "stream",
          "name": "stdout",
          "text": [
            "axisLabels [b'x' b'y' b'z']\n",
            "dataOrder b'C'\n",
            "geometry b'cartesian'\n",
            "gridGlobalOffset [-1.15  -1.15  -0.375]\n",
            "gridSpacing [0.05  0.05  0.125]\n",
            "gridUnitSI 1.0\n",
            "timeOffset 0.0\n",
            "unitDimension [ 0.  1. -2. -1.  0.  0.  0.]\n"
          ]
        }
      ]
    },
    {
      "cell_type": "code",
      "source": [],
      "metadata": {
        "id": "wYA9uunC7Mbr"
      },
      "execution_count": null,
      "outputs": []
    }
  ]
}