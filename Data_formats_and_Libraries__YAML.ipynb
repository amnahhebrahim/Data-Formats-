{
  "nbformat": 4,
  "nbformat_minor": 0,
  "metadata": {
    "colab": {
      "provenance": [],
      "authorship_tag": "ABX9TyMATO35v8tWpYbxrO8lWG6a",
      "include_colab_link": true
    },
    "kernelspec": {
      "name": "python3",
      "display_name": "Python 3"
    },
    "language_info": {
      "name": "python"
    }
  },
  "cells": [
    {
      "cell_type": "markdown",
      "metadata": {
        "id": "view-in-github",
        "colab_type": "text"
      },
      "source": [
        "<a href=\"https://colab.research.google.com/github/amnahhebrahim/Data-Formats-/blob/main/Data_formats_and_Libraries__YAML.ipynb\" target=\"_parent\"><img src=\"https://colab.research.google.com/assets/colab-badge.svg\" alt=\"Open In Colab\"/></a>"
      ]
    },
    {
      "cell_type": "markdown",
      "source": [
        "# Popular Data Formats and How to Process Them!- YAML\n",
        "\n",
        "This tutorial is part of a mini-video series that aims to explore the various data formats available and provide a brief overview of what python libraries can be used to process and handle them. This tutorial aims to look at structured data formats as enumerated below:\n",
        "\n",
        "### ✅ YAML\n",
        "YAML is a human-readable data serialization language. It is usually utilized to store data in configuration files and in applications where data is being stored or transmitted.\n",
        "\n",
        "It comes in a \".yml\" and \".yaml\" data extension.YAML is a superset of JSON, so JSON files are valid in YAML.\n"
      ],
      "metadata": {
        "id": "mW0lSHoB0BQB"
      }
    },
    {
      "cell_type": "markdown",
      "source": [
        "#### Application\n",
        "\n",
        "\n",
        "A good application for using YAML files would be to create a description file for your data that includes the metadata of your data such as date of collection, author, source, and features.\n"
      ],
      "metadata": {
        "id": "fdziUexnBFT2"
      }
    },
    {
      "cell_type": "code",
      "source": [
        "!pip install pyYAML"
      ],
      "metadata": {
        "colab": {
          "base_uri": "https://localhost:8080/"
        },
        "id": "L2Tyb1kihtgo",
        "outputId": "0a728e2d-c88f-4d93-eac3-198a1c38df04"
      },
      "execution_count": 1,
      "outputs": [
        {
          "output_type": "stream",
          "name": "stdout",
          "text": [
            "Requirement already satisfied: pyYAML in /usr/local/lib/python3.12/dist-packages (6.0.2)\n"
          ]
        }
      ]
    },
    {
      "cell_type": "code",
      "execution_count": 4,
      "metadata": {
        "id": "x8vF4e7fz2Kv"
      },
      "outputs": [],
      "source": [
        "from yaml import load, dump\n",
        "import yaml\n",
        "#python dictionary of the metadata of a hypothetical dataset:\n",
        "metadata={\"Datasheet\":{\"Name\":\"Student Grades\",\"Source\":\"X Database\", \"Author\": \"John Doe\", \"Features\":[\"Name\", \"Subject\",\"Grades\"]}}\n",
        "\n",
        "#default_flow_style is set to false to ensures that nested dictionaries\n",
        "#and lists are written in a block style for better readability, rather flow style.\n",
        "with open('metadata.yaml', 'w') as file:\n",
        "    yaml.dump(metadata, file, default_flow_style=False)\n",
        "\n",
        "\n"
      ]
    },
    {
      "cell_type": "code",
      "source": [
        "#To read YAML files you can do the following:\n",
        "with open(\"metadata.yaml\", \"r\") as file:\n",
        "  loaded_meta=yaml.safe_load(file)\n",
        "print(loaded_meta)"
      ],
      "metadata": {
        "colab": {
          "base_uri": "https://localhost:8080/"
        },
        "id": "rEs9xlYj3uYd",
        "outputId": "33185e97-bd49-4529-eb48-f034dd25abc9"
      },
      "execution_count": 5,
      "outputs": [
        {
          "output_type": "stream",
          "name": "stdout",
          "text": [
            "{'Datasheet': {'Author': 'John Doe', 'Features': ['Name', 'Subject', 'Grades'], 'Name': 'Student Grades', 'Source': 'X Database'}}\n"
          ]
        }
      ]
    },
    {
      "cell_type": "code",
      "source": [
        "loaded_meta[\"Datasheet\"][\"Author\"]=\"Smith John\""
      ],
      "metadata": {
        "id": "uKLT2x39x7wR"
      },
      "execution_count": 7,
      "outputs": []
    },
    {
      "cell_type": "code",
      "source": [
        "loaded_meta[\"Datasheet\"][\"Features\"].append(\"semester\")"
      ],
      "metadata": {
        "id": "fR_yW9MyyRnA"
      },
      "execution_count": 10,
      "outputs": []
    },
    {
      "cell_type": "code",
      "source": [
        "loaded_meta"
      ],
      "metadata": {
        "colab": {
          "base_uri": "https://localhost:8080/"
        },
        "id": "fiVY2bYmyTzr",
        "outputId": "ca05db11-02dc-4ec5-8975-a3c3da488537"
      },
      "execution_count": 11,
      "outputs": [
        {
          "output_type": "execute_result",
          "data": {
            "text/plain": [
              "{'Datasheet': {'Author': 'Smith John',\n",
              "  'Features': ['Name', 'Subject', 'Grades', 'semester'],\n",
              "  'Name': 'Student Grades',\n",
              "  'Source': 'X Database'}}"
            ]
          },
          "metadata": {},
          "execution_count": 11
        }
      ]
    },
    {
      "cell_type": "code",
      "source": [
        "with open(\"updated_metadata.yaml\", \"w\") as file:\n",
        "  yaml.dump(loaded_meta, file, default_flow_style=False)"
      ],
      "metadata": {
        "id": "YfCV-4EDyqvf"
      },
      "execution_count": 12,
      "outputs": []
    }
  ]
}